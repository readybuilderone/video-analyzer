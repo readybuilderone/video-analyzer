{
 "cells": [
  {
   "cell_type": "markdown",
   "metadata": {},
   "source": [
    "# Sample Notebook"
   ]
  },
  {
   "cell_type": "code",
   "execution_count": 1,
   "metadata": {},
   "outputs": [
    {
     "name": "stdout",
     "output_type": "stream",
     "text": [
      "/data/src/video-analyzer/.venv312/bin/python\n",
      "Python 3.12.2\n",
      "Package                   Version\n",
      "------------------------- -----------\n",
      "asttokens                 2.4.1\n",
      "attrs                     23.2.0\n",
      "boto3                     1.34.152\n",
      "botocore                  1.34.152\n",
      "certifi                   2024.7.4\n",
      "charset-normalizer        3.3.2\n",
      "cloudpickle               2.2.1\n",
      "comm                      0.2.2\n",
      "debugpy                   1.8.5\n",
      "decorator                 4.4.2\n",
      "dill                      0.3.8\n",
      "docker                    7.1.0\n",
      "executing                 2.1.0\n",
      "google-pasta              0.2.0\n",
      "idna                      3.7\n",
      "imageio                   2.34.2\n",
      "imageio-ffmpeg            0.5.1\n",
      "importlib-metadata        6.11.0\n",
      "ipykernel                 6.29.5\n",
      "ipython                   8.27.0\n",
      "jedi                      0.19.1\n",
      "jmespath                  1.0.1\n",
      "jsonschema                4.23.0\n",
      "jsonschema-specifications 2023.12.1\n",
      "jupyter_client            8.6.3\n",
      "jupyter_core              5.7.2\n",
      "matplotlib-inline         0.1.7\n",
      "moviepy                   1.0.3\n",
      "multiprocess              0.70.16\n",
      "nest-asyncio              1.6.0\n",
      "numpy                     1.26.4\n",
      "packaging                 24.1\n",
      "pandas                    2.2.2\n",
      "parso                     0.8.4\n",
      "pathos                    0.3.2\n",
      "pexpect                   4.9.0\n",
      "pillow                    10.4.0\n",
      "pip                       24.0\n",
      "platformdirs              4.2.2\n",
      "pox                       0.3.4\n",
      "ppft                      1.7.6.8\n",
      "proglog                   0.1.10\n",
      "prompt_toolkit            3.0.47\n",
      "protobuf                  4.25.4\n",
      "psutil                    6.0.0\n",
      "ptyprocess                0.7.0\n",
      "pure_eval                 0.2.3\n",
      "pydub                     0.25.1\n",
      "Pygments                  2.18.0\n",
      "python-dateutil           2.9.0.post0\n",
      "pytz                      2024.1\n",
      "PyYAML                    6.0.1\n",
      "pyzmq                     26.2.0\n",
      "referencing               0.35.1\n",
      "requests                  2.32.3\n",
      "rpds-py                   0.19.1\n",
      "s3transfer                0.10.2\n",
      "sagemaker                 2.227.0\n",
      "schema                    0.7.7\n",
      "setuptools                72.1.0\n",
      "six                       1.16.0\n",
      "smdebug-rulesconfig       1.0.1\n",
      "SpeechRecognition         3.10.4\n",
      "stack-data                0.6.3\n",
      "tblib                     3.0.0\n",
      "tornado                   6.4.1\n",
      "tqdm                      4.66.4\n",
      "traitlets                 5.14.3\n",
      "typing_extensions         4.12.2\n",
      "tzdata                    2024.1\n",
      "urllib3                   2.2.2\n",
      "wcwidth                   0.2.13\n",
      "zipp                      3.19.2\n",
      "\n",
      "\u001b[1m[\u001b[0m\u001b[34;49mnotice\u001b[0m\u001b[1;39;49m]\u001b[0m\u001b[39;49m A new release of pip is available: \u001b[0m\u001b[31;49m24.0\u001b[0m\u001b[39;49m -> \u001b[0m\u001b[32;49m24.2\u001b[0m\n",
      "\u001b[1m[\u001b[0m\u001b[34;49mnotice\u001b[0m\u001b[1;39;49m]\u001b[0m\u001b[39;49m To update, run: \u001b[0m\u001b[32;49mpip install --upgrade pip\u001b[0m\n"
     ]
    }
   ],
   "source": [
    "!which python\n",
    "!python --version\n",
    "!pip list"
   ]
  },
  {
   "cell_type": "code",
   "execution_count": 2,
   "metadata": {},
   "outputs": [
    {
     "name": "stdout",
     "output_type": "stream",
     "text": [
      "\n",
      "\u001b[1m[\u001b[0m\u001b[34;49mnotice\u001b[0m\u001b[1;39;49m]\u001b[0m\u001b[39;49m A new release of pip is available: \u001b[0m\u001b[31;49m24.0\u001b[0m\u001b[39;49m -> \u001b[0m\u001b[32;49m24.2\u001b[0m\n",
      "\u001b[1m[\u001b[0m\u001b[34;49mnotice\u001b[0m\u001b[1;39;49m]\u001b[0m\u001b[39;49m To update, run: \u001b[0m\u001b[32;49mpip install --upgrade pip\u001b[0m\n"
     ]
    }
   ],
   "source": [
    "!pip install --upgrade -q -r requirements.txt"
   ]
  },
  {
   "cell_type": "markdown",
   "metadata": {},
   "source": [
    "# Bedrock Invoke Sample"
   ]
  },
  {
   "cell_type": "code",
   "execution_count": 4,
   "metadata": {},
   "outputs": [
    {
     "name": "stdout",
     "output_type": "stream",
     "text": [
      "Prompt: What is the capital of Italy?\n",
      "\n",
      "Model: anthropic.claude-3-sonnet-20240229-v1:0\n",
      "The capital of Italy is Rome.\n",
      "--- Latency: 962ms - Input tokens: 14 - Output tokens: 10 ---\n",
      "\n",
      "Model: anthropic.claude-3-haiku-20240307-v1:0\n",
      "The capital of Italy is Rome.\n",
      "--- Latency: 233ms - Input tokens: 14 - Output tokens: 10 ---\n",
      "\n"
     ]
    }
   ],
   "source": [
    "import os\n",
    "import sys\n",
    "\n",
    "module_path = \"..\"\n",
    "sys.path.append(os.path.abspath(module_path))\n",
    "from utils import bedrock\n",
    "\n",
    "os.environ[\"AWS_DEFAULT_REGION\"] = \"us-west-2\"\n",
    "boto3_bedrock = bedrock.get_bedrock_client(\n",
    "    region=os.environ.get(\"AWS_DEFAULT_REGION\", None)\n",
    ")\n",
    "\n",
    "MODEL_IDS = [\n",
    "    'anthropic.claude-3-sonnet-20240229-v1:0',\n",
    "    'anthropic.claude-3-haiku-20240307-v1:0'\n",
    "]\n",
    "\n",
    "\n",
    "prompt = (\"What is the capital of Italy?\")\n",
    "print(f'Prompt: {prompt}\\n')\n",
    "\n",
    "\n",
    "for i in MODEL_IDS:\n",
    "    response = bedrock.invoke_bedrock_model(boto3_bedrock, i, prompt)\n",
    "    print(f'Model: {i}\\n{response}')"
   ]
  },
  {
   "cell_type": "code",
   "execution_count": 5,
   "metadata": {},
   "outputs": [
    {
     "name": "stdout",
     "output_type": "stream",
     "text": [
      "\n",
      "\n",
      "Model: anthropic.claude-3-sonnet-20240229-v1:0\n",
      "The capital of Italy is Rome.\n",
      "\n",
      "Model: anthropic.claude-3-haiku-20240307-v1:0\n",
      "The capital of Italy is Rome."
     ]
    }
   ],
   "source": [
    "for i in MODEL_IDS:\n",
    "    print(f'\\n\\nModel: {i}')\n",
    "    for chunk in bedrock.invoke_bedrock_model_stream(boto3_bedrock, i, prompt):\n",
    "        sys.stdout.write(chunk)\n",
    "        sys.stdout.flush()\n",
    "        "
   ]
  },
  {
   "cell_type": "code",
   "execution_count": null,
   "metadata": {},
   "outputs": [],
   "source": []
  }
 ],
 "metadata": {
  "kernelspec": {
   "display_name": ".venv312",
   "language": "python",
   "name": "python3"
  },
  "language_info": {
   "codemirror_mode": {
    "name": "ipython",
    "version": 3
   },
   "file_extension": ".py",
   "mimetype": "text/x-python",
   "name": "python",
   "nbconvert_exporter": "python",
   "pygments_lexer": "ipython3",
   "version": "3.12.2"
  }
 },
 "nbformat": 4,
 "nbformat_minor": 2
}
